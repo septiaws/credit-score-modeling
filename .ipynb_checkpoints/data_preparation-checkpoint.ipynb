{
 "cells": [
  {
   "cell_type": "markdown",
   "id": "08520fec-827f-44bb-9f97-5d2e39f0775a",
   "metadata": {},
   "source": [
    "# **1. Data Preparation**"
   ]
  },
  {
   "cell_type": "markdown",
   "id": "4d7a512f-39a5-4f2a-b555-241e70d6944f",
   "metadata": {},
   "source": [
    "## **1.1 Read Data**"
   ]
  },
  {
   "cell_type": "code",
   "execution_count": 1,
   "id": "4b432900-f649-4551-a43b-4bb0585750ed",
   "metadata": {},
   "outputs": [],
   "source": [
    "# Import Library\n",
    "import pandas as pd\n",
    "\n",
    "# Load Configuration\n",
    "import src.utils as utils"
   ]
  },
  {
   "cell_type": "markdown",
   "id": "572903a2-deea-4860-a6ac-49dc1735fca3",
   "metadata": {},
   "source": [
    "Create config file to load and dump data"
   ]
  },
  {
   "cell_type": "code",
   "execution_count": 2,
   "id": "56963863-0ec8-4ede-8570-dda5115992b6",
   "metadata": {},
   "outputs": [
    {
     "data": {
      "text/plain": [
       "{'raw_dataset_path': 'data/raw/Training Data.csv',\n",
       " 'dataset_path': 'data/output/data.pkl',\n",
       " 'predictors_set_path': 'data/output/predictors.pkl',\n",
       " 'response_set_path': 'data/output/response.pkl',\n",
       " 'train_path': ['data/output/X_train.pkl', 'data/output/y_train.pkl'],\n",
       " 'test_path': ['data/output/X_test.pkl', 'data/output/y_test.pkl'],\n",
       " 'data_train_path': 'data/output/data_train.pkl',\n",
       " 'data_train_binned_path': 'data/output/data_train_binned.pkl',\n",
       " 'crosstab_list_path': 'data/output/crosstab_list.pkl',\n",
       " 'WOE_table_path': 'data/output/WOE_table.pkl',\n",
       " 'IV_table_path': 'data/output/IV_table.pkl',\n",
       " 'WOE_map_dict_path': 'data/output/WOE_map_dict.pkl',\n",
       " 'X_train_woe_path': 'data/output/X_train_woe.pkl',\n",
       " 'response_variable': 'risk_flag',\n",
       " 'test_size': 0.3,\n",
       " 'num_columns': ['income',\n",
       "  'age',\n",
       "  'experience',\n",
       "  'current_job_years',\n",
       "  'current_house_years'],\n",
       " 'cat_columns': ['married',\n",
       "  'house_ownership',\n",
       "  'car_ownership',\n",
       "  'profession',\n",
       "  'city',\n",
       "  'state'],\n",
       " 'num_of_bins': 4,\n",
       " 'num_of_cv': 10,\n",
       " 'scoring': 'recall',\n",
       " 'forward_models_path': 'models/forward_models.pkl',\n",
       " 'best_predictors_path': 'models/best_predictors_path.pkl',\n",
       " 'best_model_path': 'models/best_model.pkl',\n",
       " 'best_model_summary_path': 'models/best_model_summary.pkl',\n",
       " 'pdo': 20,\n",
       " 'score_ref': 300,\n",
       " 'odds_ref': 30,\n",
       " 'scorecards_path': 'models/scorecards.pkl',\n",
       " 'points_map_dict_path': 'models/points_map_dict.pkl',\n",
       " 'X_points_path': 'models/X_points.pkl',\n",
       " 'X_train_points_path': 'models/X_train_points.pkl',\n",
       " 'score_path': 'models/score_path.pkl',\n",
       " 'cutoff_score': 150,\n",
       " 'columns_': ['income_bin',\n",
       "  'age_bin',\n",
       "  'experience_bin',\n",
       "  'current_job_years_bin',\n",
       "  'current_house_years_bin',\n",
       "  'married',\n",
       "  'house_ownership',\n",
       "  'car_ownership',\n",
       "  'profession',\n",
       "  'city',\n",
       "  'state']}"
      ]
     },
     "execution_count": 2,
     "metadata": {},
     "output_type": "execute_result"
    }
   ],
   "source": [
    "config_data = utils.config_load()\n",
    "config_data"
   ]
  },
  {
   "cell_type": "code",
   "execution_count": 3,
   "id": "013293be-44a9-486c-bf75-43cd70f60d8d",
   "metadata": {},
   "outputs": [],
   "source": [
    "def read_data():\n",
    "    \"\"\"Load data and dump data\"\"\"\n",
    "\n",
    "    # Load data\n",
    "    data_path = config_data['raw_dataset_path']\n",
    "    data = pd.read_csv(data_path)\n",
    "\n",
    "    # Validate data shape\n",
    "    print(\"Data shape :\", data.shape)\n",
    "\n",
    "    # Pickle dumping (save the result)\n",
    "    dump_path = config_data['dataset_path']\n",
    "    utils.pickle_dump(data, dump_path)\n",
    "\n",
    "    return data"
   ]
  },
  {
   "cell_type": "code",
   "execution_count": 4,
   "id": "bc1ea436-dff7-4ae8-9c96-723932ca790d",
   "metadata": {},
   "outputs": [
    {
     "name": "stdout",
     "output_type": "stream",
     "text": [
      "Data shape : (252000, 13)\n"
     ]
    },
    {
     "data": {
      "text/html": [
       "<div>\n",
       "<style scoped>\n",
       "    .dataframe tbody tr th:only-of-type {\n",
       "        vertical-align: middle;\n",
       "    }\n",
       "\n",
       "    .dataframe tbody tr th {\n",
       "        vertical-align: top;\n",
       "    }\n",
       "\n",
       "    .dataframe thead th {\n",
       "        text-align: right;\n",
       "    }\n",
       "</style>\n",
       "<table border=\"1\" class=\"dataframe\">\n",
       "  <thead>\n",
       "    <tr style=\"text-align: right;\">\n",
       "      <th></th>\n",
       "      <th>income</th>\n",
       "      <th>age</th>\n",
       "      <th>experience</th>\n",
       "      <th>married</th>\n",
       "      <th>house_ownership</th>\n",
       "      <th>car_ownership</th>\n",
       "      <th>profession</th>\n",
       "      <th>city</th>\n",
       "      <th>state</th>\n",
       "      <th>current_job_years</th>\n",
       "      <th>current_house_years</th>\n",
       "      <th>risk_flag</th>\n",
       "    </tr>\n",
       "  </thead>\n",
       "  <tbody>\n",
       "    <tr>\n",
       "      <th>0</th>\n",
       "      <td>1303835</td>\n",
       "      <td>23</td>\n",
       "      <td>3</td>\n",
       "      <td>single</td>\n",
       "      <td>rented</td>\n",
       "      <td>no</td>\n",
       "      <td>Mechanical_engineer</td>\n",
       "      <td>Rewa</td>\n",
       "      <td>Madhya_Pradesh</td>\n",
       "      <td>3</td>\n",
       "      <td>13</td>\n",
       "      <td>0</td>\n",
       "    </tr>\n",
       "    <tr>\n",
       "      <th>1</th>\n",
       "      <td>7574516</td>\n",
       "      <td>40</td>\n",
       "      <td>10</td>\n",
       "      <td>single</td>\n",
       "      <td>rented</td>\n",
       "      <td>no</td>\n",
       "      <td>Software_Developer</td>\n",
       "      <td>Parbhani</td>\n",
       "      <td>Maharashtra</td>\n",
       "      <td>9</td>\n",
       "      <td>13</td>\n",
       "      <td>0</td>\n",
       "    </tr>\n",
       "    <tr>\n",
       "      <th>2</th>\n",
       "      <td>3991815</td>\n",
       "      <td>66</td>\n",
       "      <td>4</td>\n",
       "      <td>married</td>\n",
       "      <td>rented</td>\n",
       "      <td>no</td>\n",
       "      <td>Technical_writer</td>\n",
       "      <td>Alappuzha</td>\n",
       "      <td>Kerala</td>\n",
       "      <td>4</td>\n",
       "      <td>10</td>\n",
       "      <td>0</td>\n",
       "    </tr>\n",
       "    <tr>\n",
       "      <th>3</th>\n",
       "      <td>6256451</td>\n",
       "      <td>41</td>\n",
       "      <td>2</td>\n",
       "      <td>single</td>\n",
       "      <td>rented</td>\n",
       "      <td>yes</td>\n",
       "      <td>Software_Developer</td>\n",
       "      <td>Bhubaneswar</td>\n",
       "      <td>Odisha</td>\n",
       "      <td>2</td>\n",
       "      <td>12</td>\n",
       "      <td>1</td>\n",
       "    </tr>\n",
       "    <tr>\n",
       "      <th>4</th>\n",
       "      <td>5768871</td>\n",
       "      <td>47</td>\n",
       "      <td>11</td>\n",
       "      <td>single</td>\n",
       "      <td>rented</td>\n",
       "      <td>no</td>\n",
       "      <td>Civil_servant</td>\n",
       "      <td>Tiruchirappalli[10]</td>\n",
       "      <td>Tamil_Nadu</td>\n",
       "      <td>3</td>\n",
       "      <td>14</td>\n",
       "      <td>1</td>\n",
       "    </tr>\n",
       "  </tbody>\n",
       "</table>\n",
       "</div>"
      ],
      "text/plain": [
       "    income  age  experience  married house_ownership car_ownership  \\\n",
       "0  1303835   23           3   single          rented            no   \n",
       "1  7574516   40          10   single          rented            no   \n",
       "2  3991815   66           4  married          rented            no   \n",
       "3  6256451   41           2   single          rented           yes   \n",
       "4  5768871   47          11   single          rented            no   \n",
       "\n",
       "            profession                 city           state  \\\n",
       "0  Mechanical_engineer                 Rewa  Madhya_Pradesh   \n",
       "1   Software_Developer             Parbhani     Maharashtra   \n",
       "2     Technical_writer            Alappuzha          Kerala   \n",
       "3   Software_Developer          Bhubaneswar          Odisha   \n",
       "4        Civil_servant  Tiruchirappalli[10]      Tamil_Nadu   \n",
       "\n",
       "   current_job_years  current_house_years  risk_flag  \n",
       "0                  3                   13          0  \n",
       "1                  9                   13          0  \n",
       "2                  4                   10          0  \n",
       "3                  2                   12          1  \n",
       "4                  3                   14          1  "
      ]
     },
     "execution_count": 4,
     "metadata": {},
     "output_type": "execute_result"
    }
   ],
   "source": [
    "# Check the function\n",
    "data = read_data()\n",
    "data = data.drop(columns = ['Id'], axis = 1)\n",
    "data.head()"
   ]
  },
  {
   "cell_type": "code",
   "execution_count": 5,
   "id": "6d9aa01c-2bf8-4caa-871a-0f3075a2fde1",
   "metadata": {},
   "outputs": [
    {
     "data": {
      "text/html": [
       "<div>\n",
       "<style scoped>\n",
       "    .dataframe tbody tr th:only-of-type {\n",
       "        vertical-align: middle;\n",
       "    }\n",
       "\n",
       "    .dataframe tbody tr th {\n",
       "        vertical-align: top;\n",
       "    }\n",
       "\n",
       "    .dataframe thead th {\n",
       "        text-align: right;\n",
       "    }\n",
       "</style>\n",
       "<table border=\"1\" class=\"dataframe\">\n",
       "  <thead>\n",
       "    <tr style=\"text-align: right;\">\n",
       "      <th></th>\n",
       "      <th>income</th>\n",
       "      <th>age</th>\n",
       "      <th>experience</th>\n",
       "      <th>current_job_years</th>\n",
       "      <th>current_house_years</th>\n",
       "      <th>risk_flag</th>\n",
       "    </tr>\n",
       "  </thead>\n",
       "  <tbody>\n",
       "    <tr>\n",
       "      <th>count</th>\n",
       "      <td>2.520000e+05</td>\n",
       "      <td>252000.000000</td>\n",
       "      <td>252000.000000</td>\n",
       "      <td>252000.000000</td>\n",
       "      <td>252000.000000</td>\n",
       "      <td>252000.000000</td>\n",
       "    </tr>\n",
       "    <tr>\n",
       "      <th>mean</th>\n",
       "      <td>4.997117e+06</td>\n",
       "      <td>49.954071</td>\n",
       "      <td>10.084437</td>\n",
       "      <td>6.333877</td>\n",
       "      <td>11.997794</td>\n",
       "      <td>0.123000</td>\n",
       "    </tr>\n",
       "    <tr>\n",
       "      <th>std</th>\n",
       "      <td>2.878311e+06</td>\n",
       "      <td>17.063863</td>\n",
       "      <td>6.002590</td>\n",
       "      <td>3.647053</td>\n",
       "      <td>1.399037</td>\n",
       "      <td>0.328438</td>\n",
       "    </tr>\n",
       "    <tr>\n",
       "      <th>min</th>\n",
       "      <td>1.031000e+04</td>\n",
       "      <td>21.000000</td>\n",
       "      <td>0.000000</td>\n",
       "      <td>0.000000</td>\n",
       "      <td>10.000000</td>\n",
       "      <td>0.000000</td>\n",
       "    </tr>\n",
       "    <tr>\n",
       "      <th>25%</th>\n",
       "      <td>2.503015e+06</td>\n",
       "      <td>35.000000</td>\n",
       "      <td>5.000000</td>\n",
       "      <td>3.000000</td>\n",
       "      <td>11.000000</td>\n",
       "      <td>0.000000</td>\n",
       "    </tr>\n",
       "    <tr>\n",
       "      <th>50%</th>\n",
       "      <td>5.000694e+06</td>\n",
       "      <td>50.000000</td>\n",
       "      <td>10.000000</td>\n",
       "      <td>6.000000</td>\n",
       "      <td>12.000000</td>\n",
       "      <td>0.000000</td>\n",
       "    </tr>\n",
       "    <tr>\n",
       "      <th>75%</th>\n",
       "      <td>7.477502e+06</td>\n",
       "      <td>65.000000</td>\n",
       "      <td>15.000000</td>\n",
       "      <td>9.000000</td>\n",
       "      <td>13.000000</td>\n",
       "      <td>0.000000</td>\n",
       "    </tr>\n",
       "    <tr>\n",
       "      <th>max</th>\n",
       "      <td>9.999938e+06</td>\n",
       "      <td>79.000000</td>\n",
       "      <td>20.000000</td>\n",
       "      <td>14.000000</td>\n",
       "      <td>14.000000</td>\n",
       "      <td>1.000000</td>\n",
       "    </tr>\n",
       "  </tbody>\n",
       "</table>\n",
       "</div>"
      ],
      "text/plain": [
       "             income            age     experience  current_job_years  \\\n",
       "count  2.520000e+05  252000.000000  252000.000000      252000.000000   \n",
       "mean   4.997117e+06      49.954071      10.084437           6.333877   \n",
       "std    2.878311e+06      17.063863       6.002590           3.647053   \n",
       "min    1.031000e+04      21.000000       0.000000           0.000000   \n",
       "25%    2.503015e+06      35.000000       5.000000           3.000000   \n",
       "50%    5.000694e+06      50.000000      10.000000           6.000000   \n",
       "75%    7.477502e+06      65.000000      15.000000           9.000000   \n",
       "max    9.999938e+06      79.000000      20.000000          14.000000   \n",
       "\n",
       "       current_house_years      risk_flag  \n",
       "count        252000.000000  252000.000000  \n",
       "mean             11.997794       0.123000  \n",
       "std               1.399037       0.328438  \n",
       "min              10.000000       0.000000  \n",
       "25%              11.000000       0.000000  \n",
       "50%              12.000000       0.000000  \n",
       "75%              13.000000       0.000000  \n",
       "max              14.000000       1.000000  "
      ]
     },
     "execution_count": 5,
     "metadata": {},
     "output_type": "execute_result"
    }
   ],
   "source": [
    "data.describe()"
   ]
  },
  {
   "cell_type": "markdown",
   "id": "b8680e53-3586-4d6c-b9f6-3ac29a896922",
   "metadata": {},
   "source": [
    "## **1.2 Sample Splitting**"
   ]
  },
  {
   "cell_type": "raw",
   "id": "40d5f121-cf91-42f6-a229-8e759d92d304",
   "metadata": {},
   "source": [
    "1. Split input & output data and dump them\n",
    "2. Update the config file to contain\n",
    "    - The input & output data path\n",
    "    - The output variable name\n",
    "    - The input columns name"
   ]
  },
  {
   "cell_type": "code",
   "execution_count": 8,
   "id": "efff1795-ad47-476d-8209-dd9865840d61",
   "metadata": {},
   "outputs": [
    {
     "data": {
      "text/plain": [
       "{'raw_dataset_path': 'data/raw/Training Data.csv',\n",
       " 'dataset_path': 'data/output/data.pkl',\n",
       " 'predictors_set_path': 'data/output/predictors.pkl',\n",
       " 'response_set_path': 'data/output/response.pkl',\n",
       " 'response_variable': 'risk_flag'}"
      ]
     },
     "execution_count": 8,
     "metadata": {},
     "output_type": "execute_result"
    }
   ],
   "source": [
    "config_data = utils.config_load()\n",
    "config_data"
   ]
  },
  {
   "cell_type": "code",
   "execution_count": 9,
   "id": "501cd555-8834-4cf7-a406-1f802e9f940e",
   "metadata": {},
   "outputs": [],
   "source": [
    "def split_input_output():\n",
    "    \"\"\"Split input (predictors) and output (responses)\"\"\"\n",
    "\n",
    "    # Load data\n",
    "    dataset_path = config_data['dataset_path']\n",
    "    data = utils.pickle_load(dataset_path)\n",
    "\n",
    "    # Define y\n",
    "    response_variable = config_data['response_variable']\n",
    "    y = data[response_variable]\n",
    "\n",
    "    # Define x\n",
    "    X = data.drop(columns = [response_variable],\n",
    "                axis = 1)\n",
    "\n",
    "    # Validate the splitting\n",
    "    print('y shape :', y.shape)\n",
    "    print('X shape:', X.shape)\n",
    "\n",
    "    # Dumping\n",
    "    dump_path_predictors = config_data['predictors_set_path']\n",
    "    utils.pickle_dump(X, dump_path_predictors)\n",
    "\n",
    "    dump_path_response = config_data['response_set_path']\n",
    "    utils.pickle_dump(y, dump_path_response)\n",
    "\n",
    "    return X,y"
   ]
  },
  {
   "cell_type": "code",
   "execution_count": 10,
   "id": "052f17e6-d3bf-48d2-813b-a50bff556e5d",
   "metadata": {},
   "outputs": [
    {
     "name": "stdout",
     "output_type": "stream",
     "text": [
      "y shape : (252000,)\n",
      "X shape: (252000, 12)\n"
     ]
    }
   ],
   "source": [
    "# Check the function\n",
    "X, y = split_input_output()"
   ]
  },
  {
   "cell_type": "code",
   "execution_count": 11,
   "id": "1225e52f-6ae0-4b36-9b40-377c3cb7a4aa",
   "metadata": {},
   "outputs": [
    {
     "data": {
      "text/html": [
       "<div>\n",
       "<style scoped>\n",
       "    .dataframe tbody tr th:only-of-type {\n",
       "        vertical-align: middle;\n",
       "    }\n",
       "\n",
       "    .dataframe tbody tr th {\n",
       "        vertical-align: top;\n",
       "    }\n",
       "\n",
       "    .dataframe thead th {\n",
       "        text-align: right;\n",
       "    }\n",
       "</style>\n",
       "<table border=\"1\" class=\"dataframe\">\n",
       "  <thead>\n",
       "    <tr style=\"text-align: right;\">\n",
       "      <th></th>\n",
       "      <th>income</th>\n",
       "      <th>age</th>\n",
       "      <th>experience</th>\n",
       "      <th>married</th>\n",
       "      <th>house_ownership</th>\n",
       "      <th>car_ownership</th>\n",
       "      <th>profession</th>\n",
       "      <th>city</th>\n",
       "      <th>state</th>\n",
       "      <th>current_job_years</th>\n",
       "      <th>current_house_years</th>\n",
       "    </tr>\n",
       "  </thead>\n",
       "  <tbody>\n",
       "    <tr>\n",
       "      <th>0</th>\n",
       "      <td>1303835</td>\n",
       "      <td>23</td>\n",
       "      <td>3</td>\n",
       "      <td>single</td>\n",
       "      <td>rented</td>\n",
       "      <td>no</td>\n",
       "      <td>Mechanical_engineer</td>\n",
       "      <td>Rewa</td>\n",
       "      <td>Madhya_Pradesh</td>\n",
       "      <td>3</td>\n",
       "      <td>13</td>\n",
       "    </tr>\n",
       "    <tr>\n",
       "      <th>1</th>\n",
       "      <td>7574516</td>\n",
       "      <td>40</td>\n",
       "      <td>10</td>\n",
       "      <td>single</td>\n",
       "      <td>rented</td>\n",
       "      <td>no</td>\n",
       "      <td>Software_Developer</td>\n",
       "      <td>Parbhani</td>\n",
       "      <td>Maharashtra</td>\n",
       "      <td>9</td>\n",
       "      <td>13</td>\n",
       "    </tr>\n",
       "    <tr>\n",
       "      <th>2</th>\n",
       "      <td>3991815</td>\n",
       "      <td>66</td>\n",
       "      <td>4</td>\n",
       "      <td>married</td>\n",
       "      <td>rented</td>\n",
       "      <td>no</td>\n",
       "      <td>Technical_writer</td>\n",
       "      <td>Alappuzha</td>\n",
       "      <td>Kerala</td>\n",
       "      <td>4</td>\n",
       "      <td>10</td>\n",
       "    </tr>\n",
       "    <tr>\n",
       "      <th>3</th>\n",
       "      <td>6256451</td>\n",
       "      <td>41</td>\n",
       "      <td>2</td>\n",
       "      <td>single</td>\n",
       "      <td>rented</td>\n",
       "      <td>yes</td>\n",
       "      <td>Software_Developer</td>\n",
       "      <td>Bhubaneswar</td>\n",
       "      <td>Odisha</td>\n",
       "      <td>2</td>\n",
       "      <td>12</td>\n",
       "    </tr>\n",
       "    <tr>\n",
       "      <th>4</th>\n",
       "      <td>5768871</td>\n",
       "      <td>47</td>\n",
       "      <td>11</td>\n",
       "      <td>single</td>\n",
       "      <td>rented</td>\n",
       "      <td>no</td>\n",
       "      <td>Civil_servant</td>\n",
       "      <td>Tiruchirappalli[10]</td>\n",
       "      <td>Tamil_Nadu</td>\n",
       "      <td>3</td>\n",
       "      <td>14</td>\n",
       "    </tr>\n",
       "  </tbody>\n",
       "</table>\n",
       "</div>"
      ],
      "text/plain": [
       "    income  age  experience  married house_ownership car_ownership  \\\n",
       "0  1303835   23           3   single          rented            no   \n",
       "1  7574516   40          10   single          rented            no   \n",
       "2  3991815   66           4  married          rented            no   \n",
       "3  6256451   41           2   single          rented           yes   \n",
       "4  5768871   47          11   single          rented            no   \n",
       "\n",
       "            profession                 city           state  \\\n",
       "0  Mechanical_engineer                 Rewa  Madhya_Pradesh   \n",
       "1   Software_Developer             Parbhani     Maharashtra   \n",
       "2     Technical_writer            Alappuzha          Kerala   \n",
       "3   Software_Developer          Bhubaneswar          Odisha   \n",
       "4        Civil_servant  Tiruchirappalli[10]      Tamil_Nadu   \n",
       "\n",
       "   current_job_years  current_house_years  \n",
       "0                  3                   13  \n",
       "1                  9                   13  \n",
       "2                  4                   10  \n",
       "3                  2                   12  \n",
       "4                  3                   14  "
      ]
     },
     "execution_count": 11,
     "metadata": {},
     "output_type": "execute_result"
    }
   ],
   "source": [
    "X = X.drop(columns = ['Id'], axis = 1)\n",
    "X.head()"
   ]
  },
  {
   "cell_type": "code",
   "execution_count": 17,
   "id": "0b65ffe4-e1f8-4449-8275-a362785f466b",
   "metadata": {},
   "outputs": [
    {
     "name": "stdout",
     "output_type": "stream",
     "text": [
      "<class 'pandas.core.frame.DataFrame'>\n",
      "RangeIndex: 252000 entries, 0 to 251999\n",
      "Data columns (total 12 columns):\n",
      " #   Column               Non-Null Count   Dtype \n",
      "---  ------               --------------   ----- \n",
      " 0   income               252000 non-null  int64 \n",
      " 1   age                  252000 non-null  int64 \n",
      " 2   experience           252000 non-null  int64 \n",
      " 3   married              252000 non-null  object\n",
      " 4   house_ownership      252000 non-null  object\n",
      " 5   car_ownership        252000 non-null  object\n",
      " 6   profession           252000 non-null  object\n",
      " 7   city                 252000 non-null  object\n",
      " 8   state                252000 non-null  object\n",
      " 9   current_job_years    252000 non-null  int64 \n",
      " 10  current_house_years  252000 non-null  int64 \n",
      " 11  risk_flag            252000 non-null  int64 \n",
      "dtypes: int64(6), object(6)\n",
      "memory usage: 23.1+ MB\n"
     ]
    }
   ],
   "source": [
    "data.info()"
   ]
  },
  {
   "cell_type": "code",
   "execution_count": 12,
   "id": "3116b64b-6c0f-47f2-9359-a7eabadffb71",
   "metadata": {},
   "outputs": [
    {
     "data": {
      "text/plain": [
       "0    0\n",
       "1    0\n",
       "2    0\n",
       "3    1\n",
       "4    1\n",
       "Name: risk_flag, dtype: int64"
      ]
     },
     "execution_count": 12,
     "metadata": {},
     "output_type": "execute_result"
    }
   ],
   "source": [
    "y.head()"
   ]
  },
  {
   "cell_type": "raw",
   "id": "b0999fa0-434d-47a7-af10-4340d081d705",
   "metadata": {},
   "source": [
    "Next, split the training and testing set from each predictors (X) and response (y).\n",
    "    1. Set stratify = y for splitting the sample with stratify based on the proportion of response y.\n",
    "    2. Set test_size = 0.3 for holding 30% of the sample as a testing set.\n",
    "    3. Set random_state = 42 for reproducibility."
   ]
  },
  {
   "cell_type": "code",
   "execution_count": 13,
   "id": "8ad26fab-4660-4ee6-a3a2-010f833ba9eb",
   "metadata": {},
   "outputs": [],
   "source": [
    "# Import library\n",
    "from sklearn.model_selection import train_test_split"
   ]
  },
  {
   "cell_type": "raw",
   "id": "2a25dd0f-14d0-4727-8b8f-eec6bc53331a",
   "metadata": {},
   "source": [
    "Update the config file to have train & test data path and test size"
   ]
  },
  {
   "cell_type": "code",
   "execution_count": 14,
   "id": "850b7d71-9784-4fca-b4b7-c320d3fb3bef",
   "metadata": {},
   "outputs": [
    {
     "data": {
      "text/plain": [
       "{'raw_dataset_path': 'data/raw/Training Data.csv',\n",
       " 'dataset_path': 'data/output/data.pkl',\n",
       " 'predictors_set_path': 'data/output/predictors.pkl',\n",
       " 'response_set_path': 'data/output/response.pkl',\n",
       " 'train_path': ['data/output/X_train.pkl', 'data/output/y_train.pkl'],\n",
       " 'test_path': ['data/output/X_test.pkl', 'data/output/y_test.pkl'],\n",
       " 'response_variable': 'risk_flag',\n",
       " 'test_size': 0.3}"
      ]
     },
     "execution_count": 14,
     "metadata": {},
     "output_type": "execute_result"
    }
   ],
   "source": [
    "config_data = utils.config_load()\n",
    "config_data"
   ]
  },
  {
   "cell_type": "code",
   "execution_count": 15,
   "id": "6944587e-1f93-45c5-937c-7e997f6a153c",
   "metadata": {},
   "outputs": [],
   "source": [
    "def split_train_test():\n",
    "    \"\"\"Split train & test, then dump the data\"\"\"\n",
    "\n",
    "    # Load the X & y\n",
    "    X = utils.pickle_load(config_data['predictors_set_path'])\n",
    "    y = utils.pickle_load(config_data['response_set_path'])\n",
    "\n",
    "    X = X.drop(columns = ['Id'], axis = 1)\n",
    "\n",
    "    # Split the data\n",
    "    X_train, X_test, y_train, y_test = train_test_split(X,\n",
    "                                                        y,\n",
    "                                                        stratify = y,\n",
    "                                                        test_size = config_data['test_size'],\n",
    "                                                        random_state = 42)\n",
    "    # Validate splitting\n",
    "    print('X_train shape :', X_train.shape)\n",
    "    print('y_train shape :', y_train.shape)\n",
    "    print('X_test shape :', X_test.shape)\n",
    "    print('y_test shape :', y_test.shape)\n",
    "\n",
    "    # Dump data\n",
    "    utils.pickle_dump(X_train, config_data['train_path'][0])\n",
    "    utils.pickle_dump(y_train, config_data['train_path'][1])\n",
    "    utils.pickle_dump(X_test, config_data['test_path'][0])\n",
    "    utils.pickle_dump(y_test, config_data['test_path'][1])\n",
    "\n",
    "    return X_train, y_train, X_test, y_test"
   ]
  },
  {
   "cell_type": "code",
   "execution_count": 16,
   "id": "62e4969f-4971-40f3-ab56-61fed9ef982b",
   "metadata": {},
   "outputs": [
    {
     "name": "stdout",
     "output_type": "stream",
     "text": [
      "X_train shape : (176400, 11)\n",
      "y_train shape : (176400,)\n",
      "X_test shape : (75600, 11)\n",
      "y_test shape : (75600,)\n"
     ]
    }
   ],
   "source": [
    "# Check the function\n",
    "X_train, y_train, X_test, y_test = split_train_test()"
   ]
  }
 ],
 "metadata": {
  "kernelspec": {
   "display_name": "Python 3 (ipykernel)",
   "language": "python",
   "name": "python3"
  },
  "language_info": {
   "codemirror_mode": {
    "name": "ipython",
    "version": 3
   },
   "file_extension": ".py",
   "mimetype": "text/x-python",
   "name": "python",
   "nbconvert_exporter": "python",
   "pygments_lexer": "ipython3",
   "version": "3.8.18"
  }
 },
 "nbformat": 4,
 "nbformat_minor": 5
}
